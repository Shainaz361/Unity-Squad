{
 "cells": [
  {
   "cell_type": "code",
   "execution_count": 1,
   "id": "abe463db-a95a-4f56-98db-d6dc3d92afc9",
   "metadata": {},
   "outputs": [
    {
     "name": "stdout",
     "output_type": "stream",
     "text": [
      "\n",
      "Options:\n",
      "1. Add Task\n",
      "2. List Tasks\n",
      "3. Complete Task\n",
      "4. Send Message\n",
      "5. Exit\n"
     ]
    },
    {
     "name": "stdin",
     "output_type": "stream",
     "text": [
      "Select an option:  1\n",
      "Enter task title:  group discussion\n",
      "Enter task description:  innovation of project\n",
      "Enter assignee:  sanvi\n"
     ]
    },
    {
     "name": "stdout",
     "output_type": "stream",
     "text": [
      "Task \"group discussion\" added.\n",
      "\n",
      "Options:\n",
      "1. Add Task\n",
      "2. List Tasks\n",
      "3. Complete Task\n",
      "4. Send Message\n",
      "5. Exit\n"
     ]
    },
    {
     "name": "stdin",
     "output_type": "stream",
     "text": [
      "Select an option:  2\n"
     ]
    },
    {
     "name": "stdout",
     "output_type": "stream",
     "text": [
      "Task: group discussion, Description: innovation of project, Assignee: sanvi, Status: Pending\n",
      "\n",
      "Options:\n",
      "1. Add Task\n",
      "2. List Tasks\n",
      "3. Complete Task\n",
      "4. Send Message\n",
      "5. Exit\n"
     ]
    },
    {
     "name": "stdin",
     "output_type": "stream",
     "text": [
      "Select an option:  3\n",
      "Enter task title to complete:  group discussion \n"
     ]
    },
    {
     "name": "stdout",
     "output_type": "stream",
     "text": [
      "Task \"group discussion\" marked as completed.\n",
      "\n",
      "Options:\n",
      "1. Add Task\n",
      "2. List Tasks\n",
      "3. Complete Task\n",
      "4. Send Message\n",
      "5. Exit\n"
     ]
    },
    {
     "name": "stdin",
     "output_type": "stream",
     "text": [
      "Select an option:  4\n",
      "Enter your name:  rekha\n",
      "Enter receiver's name:  sanvi\n",
      "Enter your message:  comumnication is unclear please clarify the communication\n"
     ]
    },
    {
     "name": "stdout",
     "output_type": "stream",
     "text": [
      "[2024-09-28 16:30:27] rekha to sanvi: comumnication is unclear please clarify the communication\n",
      "\n",
      "Options:\n",
      "1. Add Task\n",
      "2. List Tasks\n",
      "3. Complete Task\n",
      "4. Send Message\n",
      "5. Exit\n"
     ]
    },
    {
     "name": "stdin",
     "output_type": "stream",
     "text": [
      "Select an option:  5\n",
      "Are you sure you want to exit? (y/n):  y\n"
     ]
    },
    {
     "name": "stdout",
     "output_type": "stream",
     "text": [
      "Exiting program.\n"
     ]
    }
   ],
   "source": [
    "import time\n",
    "\n",
    "class Task:\n",
    "    def __init__(self, title, description, assignee):\n",
    "        self.title = title\n",
    "        self.description = description\n",
    "        self.assignee = assignee\n",
    "        self.completed = False\n",
    "\n",
    "    def mark_completed(self):\n",
    "        self.completed = True\n",
    "        print(f'Task \"{self.title}\" marked as completed.')\n",
    "\n",
    "    def __str__(self):\n",
    "        status = \"Completed\" if self.completed else \"Pending\"\n",
    "        return f'Task: {self.title}, Description: {self.description}, Assignee: {self.assignee}, Status: {status}'\n",
    "\n",
    "\n",
    "class TaskManager:\n",
    "    def __init__(self):\n",
    "        self.tasks = []\n",
    "\n",
    "    def add_task(self, task):\n",
    "        self.tasks.append(task)\n",
    "        print(f'Task \"{task.title}\" added.')\n",
    "\n",
    "    def list_tasks(self):\n",
    "        if not self.tasks:\n",
    "            print(\"No tasks available.\")\n",
    "            return\n",
    "        for task in self.tasks:\n",
    "            print(task)\n",
    "\n",
    "    def complete_task(self, title):\n",
    "        for task in self.tasks:\n",
    "            if task.title.lower() == title.lower():\n",
    "                task.mark_completed()\n",
    "                return\n",
    "        print(f'Task \"{title}\" not found.')\n",
    "\n",
    "    def send_message(self, sender, receiver, message):\n",
    "        timestamp = time.strftime(\"%Y-%m-%d %H:%M:%S\", time.localtime())\n",
    "        print(f\"[{timestamp}] {sender} to {receiver}: {message}\")\n",
    "\n",
    "\n",
    "def main():\n",
    "    manager = TaskManager()\n",
    "\n",
    "    while True:\n",
    "        print(\"\\nOptions:\")\n",
    "        print(\"1. Add Task\")\n",
    "        print(\"2. List Tasks\")\n",
    "        print(\"3. Complete Task\")\n",
    "        print(\"4. Send Message\")\n",
    "        print(\"5. Exit\")\n",
    "\n",
    "        choice = input(\"Select an option: \")\n",
    "\n",
    "        if choice == '1':\n",
    "            title = input(\"Enter task title: \").strip()\n",
    "            description = input(\"Enter task description: \").strip()\n",
    "            assignee = input(\"Enter assignee: \").strip()\n",
    "            if title and description and assignee:\n",
    "                task = Task(title, description, assignee)\n",
    "                manager.add_task(task)\n",
    "            else:\n",
    "                print(\"Title, description, and assignee cannot be empty.\")\n",
    "\n",
    "        elif choice == '2':\n",
    "            manager.list_tasks()\n",
    "\n",
    "        elif choice == '3':\n",
    "            title = input(\"Enter task title to complete: \").strip()\n",
    "            if title:\n",
    "                manager.complete_task(title)\n",
    "            else:\n",
    "                print(\"Task title cannot be empty.\")\n",
    "\n",
    "        elif choice == '4':\n",
    "            sender = input(\"Enter your name: \").strip()\n",
    "            receiver = input(\"Enter receiver's name: \").strip()\n",
    "            message = input(\"Enter your message: \").strip()\n",
    "            if sender and receiver and message:\n",
    "                manager.send_message(sender, receiver, message)\n",
    "            else:\n",
    "                print(\"Sender, receiver, and message cannot be empty.\")\n",
    "\n",
    "        elif choice == '5':\n",
    "            confirm = input(\"Are you sure you want to exit? (y/n): \").strip().lower()\n",
    "            if confirm == 'y':\n",
    "                print(\"Exiting program.\")\n",
    "                break\n",
    "\n",
    "        else:\n",
    "            print(\"Invalid choice. Please try again.\")\n",
    "\n",
    "if __name__ == \"__main__\":\n",
    "    main()\n"
   ]
  },
  {
   "cell_type": "code",
   "execution_count": null,
   "id": "247d0fd9-f42e-4e0e-8df8-5bf40c713473",
   "metadata": {},
   "outputs": [],
   "source": []
  }
 ],
 "metadata": {
  "kernelspec": {
   "display_name": "Python 3 (ipykernel)",
   "language": "python",
   "name": "python3"
  },
  "language_info": {
   "codemirror_mode": {
    "name": "ipython",
    "version": 3
   },
   "file_extension": ".py",
   "mimetype": "text/x-python",
   "name": "python",
   "nbconvert_exporter": "python",
   "pygments_lexer": "ipython3",
   "version": "3.12.4"
  }
 },
 "nbformat": 4,
 "nbformat_minor": 5
}
